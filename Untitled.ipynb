{
 "cells": [
  {
   "cell_type": "code",
   "execution_count": 4,
   "metadata": {},
   "outputs": [],
   "source": [
    "using Pkg"
   ]
  },
  {
   "cell_type": "code",
   "execution_count": 5,
   "metadata": {},
   "outputs": [
    {
     "data": {
      "text/plain": [
       "\"C:\\\\Users\\\\Mukund\\\\Dropbox (MIT)\\\\MIT\\\\research\\\\work\\\\new_GCM\\\\Oceananigans.jl\\\\Project.toml\""
      ]
     },
     "execution_count": 5,
     "metadata": {},
     "output_type": "execute_result"
    }
   ],
   "source": [
    "Pkg.activate(\".\")"
   ]
  },
  {
   "cell_type": "code",
   "execution_count": 6,
   "metadata": {},
   "outputs": [
    {
     "name": "stderr",
     "output_type": "stream",
     "text": [
      "┌ Info: Recompiling stale cache file C:\\Users\\Mukund\\.julia\\compiled\\v1.1\\Oceananigans\\VuIZ2.ji for Oceananigans [6e00b360-fae3-11e8-3922-3d7cb9e50aad]\n",
      "└ @ Base loading.jl:1184\n"
     ]
    }
   ],
   "source": [
    "using Oceananigans"
   ]
  },
  {
   "cell_type": "code",
   "execution_count": 8,
   "metadata": {},
   "outputs": [
    {
     "data": {
      "text/plain": [
       "rising_thermal_bubble_4 (generic function with 1 method)"
      ]
     },
     "execution_count": 8,
     "metadata": {},
     "output_type": "execute_result"
    }
   ],
   "source": [
    "include(\"examples\\\\rising_thermal_bubble_4.jl\")"
   ]
  },
  {
   "cell_type": "code",
   "execution_count": 9,
   "metadata": {},
   "outputs": [
    {
     "name": "stdout",
     "output_type": "stream",
     "text": [
      "Planning Fourier transforms... (planner_flag=FFTW.PATIENT)\n",
      "FFT!:    2.045298 seconds (44 allocations: 3.031 KiB)\n",
      "IFFT!:   2.011926 seconds (17.00 k allocations: 741.797 KiB)\n",
      "DCT!:    0.354006 seconds (11.36 k allocations: 590.930 KiB)\n",
      "IDCT!:   0.266694 seconds (10.79 k allocations: 553.289 KiB)\n"
     ]
    },
    {
     "ename": "UndefVarError",
     "evalue": "UndefVarError: Nr not defined",
     "output_type": "error",
     "traceback": [
      "UndefVarError: Nr not defined",
      "",
      "Stacktrace:",
      " [1] avgz_4!(::RegularCartesianGrid{Float64}, ::CellField{Array{Float64,3}}, ::FaceFieldZ{Array{Float64,3}}) at C:\\Users\\Mukund\\Dropbox (MIT)\\MIT\\research\\work\\new_GCM\\Oceananigans.jl\\src\\operators\\ops_regular_cartesian_grid.jl:264",
      " [2] div_flux_4!(::RegularCartesianGrid{Float64}, ::FaceFieldX{Array{Float64,3}}, ::FaceFieldY{Array{Float64,3}}, ::FaceFieldZ{Array{Float64,3}}, ::CellField{Array{Float64,3}}, ::CellField{Array{Float64,3}}, ::OperatorTemporaryFields) at C:\\Users\\Mukund\\Dropbox (MIT)\\MIT\\research\\work\\new_GCM\\Oceananigans.jl\\src\\operators\\ops_regular_cartesian_grid.jl:346",
      " [3] #time_stepping_4!#7(::Int64, ::Int64, ::SavedFields, ::Function, ::Problem) at C:\\Users\\Mukund\\Dropbox (MIT)\\MIT\\research\\work\\new_GCM\\Oceananigans.jl\\src\\time_steppers.jl:240",
      " [4] #time_stepping_4! at .\\none:0 [inlined]",
      " [5] rising_thermal_bubble_4() at C:\\Users\\Mukund\\Dropbox (MIT)\\MIT\\research\\work\\new_GCM\\Oceananigans.jl\\examples\\rising_thermal_bubble_4.jl:35",
      " [6] top-level scope at In[9]:1"
     ]
    }
   ],
   "source": [
    "rising_thermal_bubble_4()"
   ]
  },
  {
   "cell_type": "code",
   "execution_count": null,
   "metadata": {},
   "outputs": [],
   "source": []
  }
 ],
 "metadata": {
  "kernelspec": {
   "display_name": "Julia 1.0.0",
   "language": "julia",
   "name": "julia-1.0"
  },
  "language_info": {
   "file_extension": ".jl",
   "mimetype": "application/julia",
   "name": "julia",
   "version": "1.1.0"
  }
 },
 "nbformat": 4,
 "nbformat_minor": 2
}
